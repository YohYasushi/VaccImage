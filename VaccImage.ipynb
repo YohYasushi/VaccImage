{
 "cells": [
  {
   "cell_type": "code",
   "execution_count": null,
   "id": "f9cc1451",
   "metadata": {},
   "outputs": [],
   "source": [
    "NA = int(input('大人の接種人数'))\n",
    "NC = int(input('子供の接種人数'))\n",
    "Ap = int(input('大人の接種ポイント数'))\n",
    "Cp = int(input('子供の接種ポイント数'))\n",
    "Vp = int(input('1バイアルの接種ポイント数'))\n",
    "\n",
    "#インフルエンザワクチンを想定すると、Ap=2, Cp=1, Vp=4になります。\n",
    "#ファイザーCOVID19を想定すると、Ap=3, Cp=1, Vp=18になります。\n",
    "\n",
    "Tp = (NA * Ap) + (NC * Cp)\n",
    "print('合計接種ポイント(Tp): ',Tp)\n",
    "\n",
    "print('Tp/Vp(割り算しただけのもの): ', Tp/Vp)\n",
    "print('Tp/Vpの整数部分: ', int(Tp/Vp))\n",
    "print('Tp/Vpの余り: ', Tp%Vp)\n",
    "print('半端バイアルで打てるポイント:', Vp-(Tp%Vp))\n",
    "\n",
    "if((Vp-(Tp%Vp)) == Vp):\n",
    "    print('破棄分も含めた必要バイアル(TotalVials): ', int(Tp/Vp))\n",
    "else:\n",
    "    print('破棄分も含めた必要バイアル(TotalVials): ', int(Tp/Vp) + 1)    "
   ]
  }
 ],
 "metadata": {
  "kernelspec": {
   "display_name": "Python 3 (ipykernel)",
   "language": "python",
   "name": "python3"
  },
  "language_info": {
   "codemirror_mode": {
    "name": "ipython",
    "version": 3
   },
   "file_extension": ".py",
   "mimetype": "text/x-python",
   "name": "python",
   "nbconvert_exporter": "python",
   "pygments_lexer": "ipython3",
   "version": "3.9.7"
  }
 },
 "nbformat": 4,
 "nbformat_minor": 5
}
