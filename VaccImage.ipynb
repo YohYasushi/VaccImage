{
 "cells": [
  {
   "cell_type": "code",
   "execution_count": 1,
   "id": "f9cc1451",
   "metadata": {},
   "outputs": [
    {
     "name": "stdout",
     "output_type": "stream",
     "text": [
      "大人の接種人数1\n",
      "子供の接種人数1\n"
     ]
    }
   ],
   "source": [
    "NA = int(input('大人の接種人数'))\n",
    "NC = int(input('子供の接種人数'))\n",
    "\n",
    "\n",
    "#インフルエンザワクチンを想定すると、"
   ]
  }
 ],
 "metadata": {
  "kernelspec": {
   "display_name": "Python 3",
   "language": "python",
   "name": "python3"
  },
  "language_info": {
   "codemirror_mode": {
    "name": "ipython",
    "version": 3
   },
   "file_extension": ".py",
   "mimetype": "text/x-python",
   "name": "python",
   "nbconvert_exporter": "python",
   "pygments_lexer": "ipython3",
   "version": "3.8.8"
  }
 },
 "nbformat": 4,
 "nbformat_minor": 5
}
